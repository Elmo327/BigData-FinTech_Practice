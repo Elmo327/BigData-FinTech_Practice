{
 "cells": [
  {
   "cell_type": "code",
   "execution_count": 27,
   "metadata": {
    "collapsed": true
   },
   "outputs": [],
   "source": [
    "import numpy as np\n",
    "from time import time\n",
    "from Crypto.Util.number import getPrime\n",
    "\n",
    "질문!! e는 계속 바뀌어야 안전한가요??"
   ]
  },
  {
   "cell_type": "markdown",
   "metadata": {
    "collapsed": true
   },
   "source": [
    "## 0. 최종 결과 정리"
   ]
  },
  {
   "cell_type": "markdown",
   "metadata": {},
   "source": [
    "### 1) encoding 방법"
   ]
  },
  {
   "cell_type": "code",
   "execution_count": null,
   "metadata": {
    "collapsed": true
   },
   "outputs": [],
   "source": [
    "# 우선 p,q의 크기는 1024비트 정수로 하였으며, 메세지의 인코딩 시에는 e*2^25의 에러 텀을\n",
    "# 삽입하였으며, e는 64비트 소수로 설정하였습니다."
   ]
  },
  {
   "cell_type": "markdown",
   "metadata": {},
   "source": [
    "### 2) 구현 test vector"
   ]
  },
  {
   "cell_type": "code",
   "execution_count": null,
   "metadata": {
    "collapsed": true
   },
   "outputs": [],
   "source": [
    "#x,y 두개의 벡터를 구현하였으며, 각각의 길이는 문제에서 요구된 대로 256 입니다.\n",
    "# 각 벡터에는 평균이 50이고 std=20인 정규 분포에 따르는 랜덤값중 0~100 범위에 있는\n",
    "# 값들을 추출하였습니다."
   ]
  },
  {
   "cell_type": "markdown",
   "metadata": {},
   "source": [
    "### 3) 계산 속도 및 컴퓨터 사양"
   ]
  },
  {
   "cell_type": "code",
   "execution_count": null,
   "metadata": {
    "collapsed": true
   },
   "outputs": [],
   "source": [
    "# 프로세서는 Intel(R) Core(TM) i7-7700HQ CPU 2.8GHz 입니다.\n",
    "# 암호화에 소요되는 시간은 0.0014801025390625 이며, \n",
    "# 덧셈의 암호화된 연산, 복호화 과정을 합쳐서  0.0004930496215820312 가 소요되었고, \n",
    "# 분산의 암호화된 연산, 복호화 과정을 합쳐서 0.0015254020690917969 가 소요되었습니다\n",
    "# 전체적으로 거의 시간이 들지 않았다고 할 수 있습니다."
   ]
  },
  {
   "cell_type": "markdown",
   "metadata": {},
   "source": [
    "### 4) 응용점 제안"
   ]
  },
  {
   "cell_type": "code",
   "execution_count": null,
   "metadata": {
    "collapsed": true
   },
   "outputs": [],
   "source": []
  },
  {
   "cell_type": "markdown",
   "metadata": {},
   "source": [
    "## 1. 암호화, 복호화 함수 구현"
   ]
  },
  {
   "cell_type": "code",
   "execution_count": 125,
   "metadata": {
    "collapsed": true
   },
   "outputs": [],
   "source": [
    "### extended euclidean algorithm\n",
    "# 암호화 과정에서 필수적인 extended euclidean algorithm을 먼저 구현\n",
    "def EEA(a,b):\n",
    "    \n",
    "    r_i, r_i_new = (a, b) \n",
    "\n",
    "    s_i, s_i_new = (1,0)\n",
    "    t_i, t_i_new = (0,1)\n",
    "    \n",
    "    while r_i_new !=0:\n",
    "        q = r_i // r_i_new\n",
    "        s_i, s_i_new = (s_i_new, s_i - q*s_i_new)\n",
    "        t_i, t_i_new = (t_i_new, t_i - q*t_i_new)\n",
    "        r_i, r_i_new = (r_i_new, r_i - q*r_i_new)\n",
    "        \n",
    "    return r_i, s_i, t_i\n",
    "\n",
    "### ENCRYPTION function\n",
    "def HE_encryption(m1, m2, p, q):\n",
    "    \n",
    "    # known plaintext attack에서 암호체계를 보호하기 위해 noise term  e를 메세지에 삽입\n",
    "    # 이 결과 이진법 단위에서 25bit의 noise term + 3bit 여유 + message의 22bit가 됨\n",
    "    # 22bit인 이유는, 분산 계산시  256(=2^8)개의 2^7bit의  개체의 제곱합이 계산되므로 \n",
    "    # 최대 7X2 +8 = 22 bit의 공간을 차지 \n",
    "    x_i = (2**25)*e + m1\n",
    "    y_i = (2**25)*e + m2\n",
    "    \n",
    "    # extended euclidean algorithm을 통해 p*p_ + q*q_ = 1 인 p_. q_ 를 찾습니다.\n",
    "    # r=1 이여야 하므로 만에 하나 r!=1 일때는 에러를 반환하게 하였습니다.\n",
    "    r, p_, q_ = EEA(p,q)\n",
    "    \n",
    "    if r !=1:\n",
    "        raise ValueError(\"GCD of P,Q is not 1 try another p and q\")\n",
    "    \n",
    "    #본격적으로 chinese remainder theorem을 사용해 값을 암호화 합니다.\n",
    "    CRT = (x_i*q_*q + y_i*p_*p) % (p*q)\n",
    "    \n",
    "    return CRT\n",
    "\n",
    "\n",
    "### DECRYPTION function\n",
    "def HE_decryption(crt, p, q):\n",
    "    \n",
    "    # chinese remainder theorem을 이용한 복호화 과정\n",
    "    x_i = crt  % p\n",
    "    y_i = crt  % q\n",
    "    \n",
    "    # noise term e*2^25 를 삭제해주어 원문 메세지를 복원하는 과정\n",
    "    m1 = x_i  % (2**25)\n",
    "    m2 = y_i % (2**25)\n",
    "    \n",
    "    \n",
    "    return m1, m2"
   ]
  },
  {
   "cell_type": "code",
   "execution_count": null,
   "metadata": {
    "collapsed": true
   },
   "outputs": [],
   "source": []
  },
  {
   "cell_type": "markdown",
   "metadata": {},
   "source": [
    "## 2. sum, variance 함수 구현"
   ]
  },
  {
   "cell_type": "code",
   "execution_count": 145,
   "metadata": {
    "collapsed": true
   },
   "outputs": [],
   "source": [
    "# 벡터 값들의 합과 분산을 계산하는 함수를 정의해 줍니다\n",
    "def sum_(score_list):\n",
    "    sum_of_score= 0\n",
    "    for i in score_list:\n",
    "        sum_of_score += i\n",
    "    \n",
    "    return sum_of_score\n",
    "    \n",
    "def sum_of_square_minus_mean(score_list):\n",
    "    sum_of_squares = 0\n",
    "    for i in score_list:\n",
    "        sum_of_squares += i**2\n",
    "    \n",
    "    final_value = sum_of_squares  \n",
    "    \n",
    "    return final_value"
   ]
  },
  {
   "cell_type": "code",
   "execution_count": null,
   "metadata": {
    "collapsed": true
   },
   "outputs": [],
   "source": []
  },
  {
   "cell_type": "markdown",
   "metadata": {},
   "source": [
    "## 3. 비밀키 및 실험용 데이터셋 생성 "
   ]
  },
  {
   "cell_type": "code",
   "execution_count": 146,
   "metadata": {
    "collapsed": true
   },
   "outputs": [],
   "source": [
    "### 평균과 분산을 계산할 두개의 벡터를 생성 \n",
    "#normal분포에, 평균 50이고 std는 20인 random값들 중 0~100 사이의 값들을 256개 뽑습니다.  \n",
    "score_vector = []\n",
    "\n",
    "def score_vector_generator():\n",
    "    score_vector = []\n",
    "    for i in range(2**9):\n",
    "        score = round(np.random.normal(loc = 50, scale = 20))\n",
    "        if score<=100 and score>=0:\n",
    "            score_vector.append(score)\n",
    "        if len(score_vector) == 2**8:\n",
    "            break\n",
    "    return np.array(score_vector)\n",
    "\n",
    "vector_m1 = score_vector_generator()\n",
    "vector_m2 = score_vector_generator()"
   ]
  },
  {
   "cell_type": "code",
   "execution_count": 147,
   "metadata": {},
   "outputs": [
    {
     "data": {
      "text/plain": [
       "11858151691045153759"
      ]
     },
     "execution_count": 147,
     "metadata": {},
     "output_type": "execute_result"
    }
   ],
   "source": [
    "### 비밀키 p,q ,e 생성.\n",
    "#이때 p,q는 message 자리수 + noise term 자리수를 가지고 연산한 값의 최대 자리수 보다 \n",
    "# 커야 하는데, 넉넉하게 2^1024 정도로 잡았습니다.  \n",
    "#동형암호를 이용한 과정에서는 암호화와 복호화 모두 한쪽에서 하기에\n",
    "# 굳이 공개키 n= p*q를 변수로 만들어 저장할 필요는 없어 보입니다.\n",
    "p= getPrime(1024)\n",
    "q = getPrime(1024)\n",
    "\n",
    "# 암호 체계를 known text attack으로 부터 보호하기 위한,\n",
    "# 적절한 크기의 noise term을 설정해 줍니다. \n",
    "e = getPrime(64)\n",
    "e"
   ]
  },
  {
   "cell_type": "code",
   "execution_count": null,
   "metadata": {
    "collapsed": true
   },
   "outputs": [],
   "source": []
  },
  {
   "cell_type": "markdown",
   "metadata": {},
   "source": [
    "## 4. 암호화된 sum, variance 연산 실제 구동"
   ]
  },
  {
   "cell_type": "code",
   "execution_count": 171,
   "metadata": {},
   "outputs": [],
   "source": [
    "\n",
    "# 메세지 암호화\n",
    "encrypted_message = HE_encryption(vector_m1, vector_m2, p, q)\n"
   ]
  },
  {
   "cell_type": "markdown",
   "metadata": {},
   "source": [
    "### 4-1) encrypted sum function "
   ]
  },
  {
   "cell_type": "code",
   "execution_count": 164,
   "metadata": {
    "collapsed": true
   },
   "outputs": [],
   "source": [
    "\n",
    "#암호화된 상태로 덧셈 수행\n",
    "encrypted_sum = sum_(encrypted_message)\n"
   ]
  },
  {
   "cell_type": "code",
   "execution_count": 167,
   "metadata": {
    "collapsed": true
   },
   "outputs": [],
   "source": [
    "\n",
    "#복호화 과정 수행\n",
    "original_sum = HE_decryption(encrypted_sum, p,q)\n"
   ]
  },
  {
   "cell_type": "code",
   "execution_count": 151,
   "metadata": {
    "scrolled": true
   },
   "outputs": [
    {
     "data": {
      "text/plain": [
       "True"
      ]
     },
     "execution_count": 151,
     "metadata": {},
     "output_type": "execute_result"
    }
   ],
   "source": [
    "# 덧셈 연산 보존을 확인\n",
    "original_sum == (np.sum(vector_m1), np.sum(vector_m2))"
   ]
  },
  {
   "cell_type": "code",
   "execution_count": 152,
   "metadata": {},
   "outputs": [
    {
     "name": "stdout",
     "output_type": "stream",
     "text": [
      "(12664, 12857)\n"
     ]
    }
   ],
   "source": [
    "# 덧셈한 값 확인\n",
    "print(original_sum)"
   ]
  },
  {
   "cell_type": "markdown",
   "metadata": {},
   "source": [
    "### 4-2) encrypted variance function"
   ]
  },
  {
   "cell_type": "code",
   "execution_count": 153,
   "metadata": {},
   "outputs": [],
   "source": [
    "# sum of square에 n*평균의 계산을 보존한 것을 확인\n",
    "encrypted_SSMM = sum_of_square_minus_mean(encrypted_message)"
   ]
  },
  {
   "cell_type": "code",
   "execution_count": 154,
   "metadata": {
    "collapsed": true
   },
   "outputs": [],
   "source": [
    "original_SSMM = HE_decryption(encrypted_SSMM,p, q)"
   ]
  },
  {
   "cell_type": "code",
   "execution_count": 155,
   "metadata": {},
   "outputs": [],
   "source": [
    "# variance를 직접적으로 계산하는 부분\n",
    "original_variance = np.array(original_SSMM)/n - (np.array(original_sum)**2)/n**2 "
   ]
  },
  {
   "cell_type": "code",
   "execution_count": 159,
   "metadata": {},
   "outputs": [
    {
     "data": {
      "text/plain": [
       "array([ True,  True])"
      ]
     },
     "execution_count": 159,
     "metadata": {},
     "output_type": "execute_result"
    }
   ],
   "source": [
    "# 분산 연산 보존을 확인\n",
    "original_variance == (np.var(vector_m1) , np.var(vector_m2))"
   ]
  },
  {
   "cell_type": "code",
   "execution_count": 160,
   "metadata": {
    "scrolled": true
   },
   "outputs": [
    {
     "name": "stdout",
     "output_type": "stream",
     "text": [
      "[319.26464844 327.21214294]\n"
     ]
    }
   ],
   "source": [
    "# 분산 값 확인\n",
    "print(original_variance)"
   ]
  },
  {
   "cell_type": "code",
   "execution_count": null,
   "metadata": {},
   "outputs": [],
   "source": []
  },
  {
   "cell_type": "code",
   "execution_count": null,
   "metadata": {},
   "outputs": [],
   "source": []
  },
  {
   "cell_type": "code",
   "execution_count": null,
   "metadata": {},
   "outputs": [],
   "source": []
  },
  {
   "cell_type": "code",
   "execution_count": null,
   "metadata": {},
   "outputs": [],
   "source": []
  },
  {
   "cell_type": "code",
   "execution_count": null,
   "metadata": {},
   "outputs": [],
   "source": []
  },
  {
   "cell_type": "code",
   "execution_count": null,
   "metadata": {},
   "outputs": [],
   "source": []
  },
  {
   "cell_type": "code",
   "execution_count": null,
   "metadata": {
    "collapsed": true
   },
   "outputs": [],
   "source": []
  },
  {
   "cell_type": "code",
   "execution_count": null,
   "metadata": {
    "collapsed": true
   },
   "outputs": [],
   "source": []
  }
 ],
 "metadata": {
  "kernelspec": {
   "display_name": "Python 3",
   "language": "python",
   "name": "python3"
  },
  "language_info": {
   "codemirror_mode": {
    "name": "ipython",
    "version": 3
   },
   "file_extension": ".py",
   "mimetype": "text/x-python",
   "name": "python",
   "nbconvert_exporter": "python",
   "pygments_lexer": "ipython3",
   "version": "3.6.4"
  }
 },
 "nbformat": 4,
 "nbformat_minor": 2
}
