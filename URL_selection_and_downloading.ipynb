{
 "cells": [
  {
   "cell_type": "code",
   "execution_count": 1,
   "metadata": {},
   "outputs": [],
   "source": [
    "import numpy as np\n",
    "import pandas as pd\n",
    "import matplotlib.pyplot as plt\n",
    "from PIL import Image\n",
    "from time import time\n",
    "import urllib.request\n",
    "from urllib.request import HTTPError\n",
    "from time import time\n",
    "import os"
   ]
  },
  {
   "cell_type": "code",
   "execution_count": 2,
   "metadata": {},
   "outputs": [],
   "source": [
    "train_data = pd.read_csv(\"C:/Users/User/Downloads/train.csv/train.csv\", engine=\"python\")\n",
    "test_data = pd.read_csv(\"C:/Users/User/Downloads/test.csv/test.csv\", engine=\"python\")"
   ]
  },
  {
   "cell_type": "code",
   "execution_count": 18,
   "metadata": {},
   "outputs": [
    {
     "data": {
      "text/plain": [
       "0      9633\n",
       "1      6051\n",
       "2      6599\n",
       "3      9779\n",
       "4      2061\n",
       "5      5554\n",
       "6      6651\n",
       "7      6696\n",
       "8      5376\n",
       "9      2743\n",
       "10     4352\n",
       "11    13526\n",
       "12     1553\n",
       "13    10900\n",
       "14     8063\n",
       "15     8429\n",
       "16     4987\n",
       "17    12220\n",
       "18    11784\n",
       "19     2949\n",
       "20    12718\n",
       "21     3804\n",
       "22    10184\n",
       "23     7092\n",
       "24    10045\n",
       "25     2338\n",
       "26    12172\n",
       "27     3924\n",
       "28      428\n",
       "29     9029\n",
       "      ...  \n",
       "50    11371\n",
       "51      233\n",
       "52      165\n",
       "53     1946\n",
       "54    10511\n",
       "55     1602\n",
       "56     2241\n",
       "57    13475\n",
       "58    13444\n",
       "59     1472\n",
       "60     8274\n",
       "61    13873\n",
       "62     2444\n",
       "63    12972\n",
       "64     3130\n",
       "65     7000\n",
       "66    13594\n",
       "67     4300\n",
       "68     4085\n",
       "69     5460\n",
       "70    13876\n",
       "71     5046\n",
       "72    12676\n",
       "73    10577\n",
       "74     4981\n",
       "75    13332\n",
       "76      878\n",
       "77     2341\n",
       "78     1213\n",
       "79     7041\n",
       "Name: landmark_id, Length: 80, dtype: int64"
      ]
     },
     "execution_count": 18,
     "metadata": {},
     "output_type": "execute_result"
    }
   ],
   "source": [
    "freq_rank =  pd.DataFrame(train_data.landmark_id.value_counts())\n",
    "freq_rank.reset_index(inplace=True)\n",
    "freq_rank.columns = ['landmark_id','count']\n",
    "\n",
    "freq_rank_1200 = freq_rank[freq_rank[\"count\"]>=1253]['landmark_id']"
   ]
  },
  {
   "cell_type": "code",
   "execution_count": 8,
   "metadata": {
    "collapsed": true
   },
   "outputs": [
    {
     "name": "stdout",
     "output_type": "stream",
     "text": [
      "0\n",
      "1\n",
      "2\n",
      "3\n",
      "4\n",
      "5\n",
      "6\n",
      "7\n",
      "8\n",
      "9\n",
      "10\n",
      "11\n",
      "12\n",
      "13\n",
      "14\n",
      "15\n",
      "16\n",
      "17\n",
      "18\n",
      "19\n",
      "20\n",
      "21\n",
      "22\n",
      "23\n",
      "24\n",
      "25\n",
      "26\n",
      "27\n",
      "28\n",
      "29\n",
      "30\n",
      "31\n",
      "32\n",
      "33\n",
      "34\n",
      "35\n",
      "36\n",
      "37\n",
      "38\n",
      "39\n",
      "40\n",
      "41\n",
      "42\n",
      "43\n",
      "44\n",
      "45\n",
      "46\n",
      "47\n",
      "48\n",
      "49\n",
      "50\n",
      "51\n",
      "52\n",
      "53\n",
      "54\n",
      "55\n",
      "56\n",
      "57\n",
      "58\n",
      "59\n",
      "60\n",
      "61\n",
      "62\n",
      "63\n",
      "64\n",
      "65\n",
      "66\n",
      "67\n",
      "68\n",
      "69\n",
      "70\n",
      "71\n",
      "72\n",
      "73\n",
      "74\n",
      "75\n",
      "76\n",
      "77\n",
      "78\n",
      "79\n",
      "1154.109705209732\n"
     ]
    }
   ],
   "source": [
    "#total_URL_list\n",
    "URL_list = []\n",
    "\n",
    "start = time()\n",
    "for n, label in enumerate(freq_rank_1200):\n",
    "    class_url_list_size = 0\n",
    "    for j in range(len(train_data)):\n",
    "        \n",
    "        if class_url_list_size == 1250:\n",
    "            break;\n",
    "            \n",
    "        if train_data[\"landmark_id\"][j] == label:\n",
    "            URL_list.append(train_data.iloc[j, 1:3])\n",
    "            class_url_list_size +=1\n",
    "    print(n)\n",
    "end = time()\n",
    "\n",
    "print(end-start)"
   ]
  },
  {
   "cell_type": "code",
   "execution_count": 13,
   "metadata": {
    "scrolled": true
   },
   "outputs": [],
   "source": [
    "URL_list = pd.DataFrame(URL_list)\n",
    "URL_list.to_csv(\"D:/DL_files/selected_URL_list.csv\")"
   ]
  },
  {
   "cell_type": "code",
   "execution_count": 77,
   "metadata": {},
   "outputs": [],
   "source": [
    "#np.random.shuffle(URL_list)\n",
    "#shuffled_URL_list = pd.DataFrame(URL_list)"
   ]
  },
  {
   "cell_type": "code",
   "execution_count": 78,
   "metadata": {},
   "outputs": [],
   "source": [
    "#shuffled_URL_list.to_csv(\"D:/DL_files/shuffled_selected_URL_list.csv\")"
   ]
  },
  {
   "cell_type": "code",
   "execution_count": 7,
   "metadata": {
    "scrolled": true
   },
   "outputs": [],
   "source": [
    "shuffled_URL_list = pd.read_csv(\"D:/DL_files/shuffled_selected_URL_list.csv\")\n",
    "#shuffled_URL_list"
   ]
  },
  {
   "cell_type": "code",
   "execution_count": 19,
   "metadata": {},
   "outputs": [],
   "source": [
    "\n",
    "os.chdir('D:/DL_class_directory/')\n",
    "for label in freq_rank_1200:\n",
    "    os.makedirs(str(label))\n"
   ]
  },
  {
   "cell_type": "code",
   "execution_count": 12,
   "metadata": {},
   "outputs": [
    {
     "name": "stdout",
     "output_type": "stream",
     "text": [
      "HTTP Error 403: Forbidden 173\n",
      "Took 164.82 seconds.\n"
     ]
    }
   ],
   "source": [
    "urls = shuffled_URL_list['url']\n",
    "\n",
    "tic = time()\n",
    "for i, url in enumerate(urls):\n",
    "    numbering = i+1\n",
    "    try:\n",
    "        urllib.request.urlretrieve(url,'D:/DL_missing_files/train%d.png' % (\n",
    "            numbering))\n",
    "        ## 첫번째 인수: 사진에 해당하는 url 주소, 두번째 인수: 저장할 사진 이름.\n",
    "    except HTTPError as e:\n",
    "        print(e, '%d'%(i+1))\n",
    "\n",
    "toc = time()\n",
    "print(\"Took %.2f seconds.\"%(toc-tic))"
   ]
  },
  {
   "cell_type": "code",
   "execution_count": 34,
   "metadata": {
    "scrolled": true
   },
   "outputs": [
    {
     "data": {
      "text/plain": [
       "('D:/DL_class_directory/165/1.png', <http.client.HTTPMessage at 0x213cab51160>)"
      ]
     },
     "execution_count": 34,
     "metadata": {},
     "output_type": "execute_result"
    }
   ],
   "source": [
    " urllib.request.urlretrieve(url,'D:/DL_class_directory/%d/%d.png' % (URL_list['landmark_id'][0],i+1))"
   ]
  },
  {
   "cell_type": "code",
   "execution_count": 41,
   "metadata": {},
   "outputs": [
    {
     "data": {
      "text/plain": [
       "9633"
      ]
     },
     "execution_count": 41,
     "metadata": {},
     "output_type": "execute_result"
    }
   ],
   "source": [
    "URL_list['landmark_id'].iloc[0]"
   ]
  },
  {
   "cell_type": "code",
   "execution_count": 45,
   "metadata": {},
   "outputs": [
    {
     "data": {
      "text/plain": [
       "'100000'"
      ]
     },
     "execution_count": 45,
     "metadata": {},
     "output_type": "execute_result"
    }
   ],
   "source": [
    "i =100000\n",
    "str(i).zfill(6)"
   ]
  },
  {
   "cell_type": "code",
   "execution_count": 59,
   "metadata": {},
   "outputs": [],
   "source": [
    "urls = URL_list['url'].iloc[87274:]"
   ]
  },
  {
   "cell_type": "code",
   "execution_count": 61,
   "metadata": {},
   "outputs": [
    {
     "data": {
      "text/plain": [
       "(12726,)"
      ]
     },
     "execution_count": 61,
     "metadata": {},
     "output_type": "execute_result"
    }
   ],
   "source": [
    "urls.shape"
   ]
  },
  {
   "cell_type": "code",
   "execution_count": 3,
   "metadata": {},
   "outputs": [],
   "source": [
    "a = 'abced'"
   ]
  },
  {
   "cell_type": "code",
   "execution_count": 5,
   "metadata": {},
   "outputs": [
    {
     "data": {
      "text/plain": [
       "'ce'"
      ]
     },
     "execution_count": 5,
     "metadata": {},
     "output_type": "execute_result"
    }
   ],
   "source": [
    "a[2:4]"
   ]
  },
  {
   "cell_type": "code",
   "execution_count": null,
   "metadata": {},
   "outputs": [],
   "source": []
  }
 ],
 "metadata": {
  "kernelspec": {
   "display_name": "Python 3",
   "language": "python",
   "name": "python3"
  },
  "language_info": {
   "codemirror_mode": {
    "name": "ipython",
    "version": 3
   },
   "file_extension": ".py",
   "mimetype": "text/x-python",
   "name": "python",
   "nbconvert_exporter": "python",
   "pygments_lexer": "ipython3",
   "version": "3.6.4"
  }
 },
 "nbformat": 4,
 "nbformat_minor": 2
}
